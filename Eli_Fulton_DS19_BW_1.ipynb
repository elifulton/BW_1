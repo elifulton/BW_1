{
  "nbformat": 4,
  "nbformat_minor": 0,
  "metadata": {
    "colab": {
      "name": "Eli Fulton DS19_BW_1.ipynb",
      "provenance": [],
      "authorship_tag": "ABX9TyMleF7GqSF13EWec0KTFcau",
      "include_colab_link": true
    },
    "kernelspec": {
      "name": "python3",
      "display_name": "Python 3"
    }
  },
  "cells": [
    {
      "cell_type": "markdown",
      "metadata": {
        "id": "view-in-github",
        "colab_type": "text"
      },
      "source": [
        "<a href=\"https://colab.research.google.com/github/elifulton/BW_1/blob/master/Eli_Fulton_DS19_BW_1.ipynb\" target=\"_parent\"><img src=\"https://colab.research.google.com/assets/colab-badge.svg\" alt=\"Open In Colab\"/></a>"
      ]
    },
    {
      "cell_type": "code",
      "metadata": {
        "id": "03WXjbFPawGs",
        "colab_type": "code",
        "colab": {
          "base_uri": "https://localhost:8080/",
          "height": 888
        },
        "outputId": "d6bae770-0824-4afe-de2c-40404d824596"
      },
      "source": [
        "import pandas as pd\n",
        "import sqlite3 as lite\n",
        "conn = lite.connect(\"/content/database.sqlite\")\n",
        "\n",
        "lastfm_df = pd.read_csv('/content/artists.csv')\n",
        "\n",
        "lastfm_df_copy = lastfm_df\n",
        "lastfm_df_copy = lastfm_df_copy.rename(columns={'artist_lastfm':'artist'})\n",
        "lastfm_df_copy['artist'] = lastfm_df_copy['artist'].str.lower()\n",
        "lastfm_df_copy = lastfm_df_copy.drop(['mbid', 'artist_mb', 'country_mb', 'tags_mb', 'tags_lastfm', 'ambiguous_artist'], axis=1)\n",
        "\n",
        "lastfm_df_copy.head(25)"
      ],
      "execution_count": 8,
      "outputs": [
        {
          "output_type": "stream",
          "text": [
            "/usr/local/lib/python3.6/dist-packages/IPython/core/interactiveshell.py:2718: DtypeWarning: Columns (2,4,6) have mixed types.Specify dtype option on import or set low_memory=False.\n",
            "  interactivity=interactivity, compiler=compiler, result=result)\n"
          ],
          "name": "stderr"
        },
        {
          "output_type": "execute_result",
          "data": {
            "text/html": [
              "<div>\n",
              "<style scoped>\n",
              "    .dataframe tbody tr th:only-of-type {\n",
              "        vertical-align: middle;\n",
              "    }\n",
              "\n",
              "    .dataframe tbody tr th {\n",
              "        vertical-align: top;\n",
              "    }\n",
              "\n",
              "    .dataframe thead th {\n",
              "        text-align: right;\n",
              "    }\n",
              "</style>\n",
              "<table border=\"1\" class=\"dataframe\">\n",
              "  <thead>\n",
              "    <tr style=\"text-align: right;\">\n",
              "      <th></th>\n",
              "      <th>artist</th>\n",
              "      <th>country_lastfm</th>\n",
              "      <th>listeners_lastfm</th>\n",
              "      <th>scrobbles_lastfm</th>\n",
              "    </tr>\n",
              "  </thead>\n",
              "  <tbody>\n",
              "    <tr>\n",
              "      <th>0</th>\n",
              "      <td>coldplay</td>\n",
              "      <td>United Kingdom</td>\n",
              "      <td>5381567.0</td>\n",
              "      <td>360111850.0</td>\n",
              "    </tr>\n",
              "    <tr>\n",
              "      <th>1</th>\n",
              "      <td>radiohead</td>\n",
              "      <td>United Kingdom</td>\n",
              "      <td>4732528.0</td>\n",
              "      <td>499548797.0</td>\n",
              "    </tr>\n",
              "    <tr>\n",
              "      <th>2</th>\n",
              "      <td>red hot chili peppers</td>\n",
              "      <td>United States</td>\n",
              "      <td>4620835.0</td>\n",
              "      <td>293784041.0</td>\n",
              "    </tr>\n",
              "    <tr>\n",
              "      <th>3</th>\n",
              "      <td>rihanna</td>\n",
              "      <td>Barbados; United States</td>\n",
              "      <td>4558193.0</td>\n",
              "      <td>199248986.0</td>\n",
              "    </tr>\n",
              "    <tr>\n",
              "      <th>4</th>\n",
              "      <td>eminem</td>\n",
              "      <td>United States</td>\n",
              "      <td>4517997.0</td>\n",
              "      <td>199507511.0</td>\n",
              "    </tr>\n",
              "    <tr>\n",
              "      <th>5</th>\n",
              "      <td>the killers</td>\n",
              "      <td>NaN</td>\n",
              "      <td>4428868.0</td>\n",
              "      <td>208722092.0</td>\n",
              "    </tr>\n",
              "    <tr>\n",
              "      <th>6</th>\n",
              "      <td>kanye west</td>\n",
              "      <td>United States</td>\n",
              "      <td>4390502.0</td>\n",
              "      <td>238603850.0</td>\n",
              "    </tr>\n",
              "    <tr>\n",
              "      <th>7</th>\n",
              "      <td>nirvana</td>\n",
              "      <td>United States</td>\n",
              "      <td>4272894.0</td>\n",
              "      <td>222303859.0</td>\n",
              "    </tr>\n",
              "    <tr>\n",
              "      <th>8</th>\n",
              "      <td>muse</td>\n",
              "      <td>United Kingdom</td>\n",
              "      <td>4089612.0</td>\n",
              "      <td>344838631.0</td>\n",
              "    </tr>\n",
              "    <tr>\n",
              "      <th>9</th>\n",
              "      <td>queen</td>\n",
              "      <td>United Kingdom</td>\n",
              "      <td>4023379.0</td>\n",
              "      <td>191711573.0</td>\n",
              "    </tr>\n",
              "    <tr>\n",
              "      <th>10</th>\n",
              "      <td>foo fighters</td>\n",
              "      <td>United States</td>\n",
              "      <td>4005236.0</td>\n",
              "      <td>194253620.0</td>\n",
              "    </tr>\n",
              "    <tr>\n",
              "      <th>11</th>\n",
              "      <td>linkin park</td>\n",
              "      <td>United States</td>\n",
              "      <td>3978390.0</td>\n",
              "      <td>294986508.0</td>\n",
              "    </tr>\n",
              "    <tr>\n",
              "      <th>12</th>\n",
              "      <td>lady gaga</td>\n",
              "      <td>United States</td>\n",
              "      <td>3820581.0</td>\n",
              "      <td>285469647.0</td>\n",
              "    </tr>\n",
              "    <tr>\n",
              "      <th>13</th>\n",
              "      <td>the rolling stones</td>\n",
              "      <td>United Kingdom</td>\n",
              "      <td>3798330.0</td>\n",
              "      <td>154106551.0</td>\n",
              "    </tr>\n",
              "    <tr>\n",
              "      <th>14</th>\n",
              "      <td>daft punk</td>\n",
              "      <td>France</td>\n",
              "      <td>3782404.0</td>\n",
              "      <td>209502122.0</td>\n",
              "    </tr>\n",
              "    <tr>\n",
              "      <th>15</th>\n",
              "      <td>green day</td>\n",
              "      <td>United States</td>\n",
              "      <td>3738772.0</td>\n",
              "      <td>188558689.0</td>\n",
              "    </tr>\n",
              "    <tr>\n",
              "      <th>16</th>\n",
              "      <td>katy perry</td>\n",
              "      <td>United States</td>\n",
              "      <td>3733134.0</td>\n",
              "      <td>146330284.0</td>\n",
              "    </tr>\n",
              "    <tr>\n",
              "      <th>17</th>\n",
              "      <td>the beatles</td>\n",
              "      <td>United Kingdom</td>\n",
              "      <td>3674017.0</td>\n",
              "      <td>517126254.0</td>\n",
              "    </tr>\n",
              "    <tr>\n",
              "      <th>18</th>\n",
              "      <td>oasis</td>\n",
              "      <td>United Kingdom</td>\n",
              "      <td>3592076.0</td>\n",
              "      <td>150683301.0</td>\n",
              "    </tr>\n",
              "    <tr>\n",
              "      <th>19</th>\n",
              "      <td>gorillaz</td>\n",
              "      <td>United Kingdom</td>\n",
              "      <td>3577998.0</td>\n",
              "      <td>169844826.0</td>\n",
              "    </tr>\n",
              "    <tr>\n",
              "      <th>20</th>\n",
              "      <td>beyoncé</td>\n",
              "      <td>United States</td>\n",
              "      <td>3554615.0</td>\n",
              "      <td>153947081.0</td>\n",
              "    </tr>\n",
              "    <tr>\n",
              "      <th>21</th>\n",
              "      <td>michael jackson</td>\n",
              "      <td>United States</td>\n",
              "      <td>3546966.0</td>\n",
              "      <td>131160791.0</td>\n",
              "    </tr>\n",
              "    <tr>\n",
              "      <th>22</th>\n",
              "      <td>maroon 5</td>\n",
              "      <td>United States</td>\n",
              "      <td>3507447.0</td>\n",
              "      <td>118003794.0</td>\n",
              "    </tr>\n",
              "    <tr>\n",
              "      <th>23</th>\n",
              "      <td>arctic monkeys</td>\n",
              "      <td>United Kingdom</td>\n",
              "      <td>3501680.0</td>\n",
              "      <td>332306552.0</td>\n",
              "    </tr>\n",
              "    <tr>\n",
              "      <th>24</th>\n",
              "      <td>system of a down</td>\n",
              "      <td>Armenia; United States</td>\n",
              "      <td>3497648.0</td>\n",
              "      <td>226695285.0</td>\n",
              "    </tr>\n",
              "  </tbody>\n",
              "</table>\n",
              "</div>"
            ],
            "text/plain": [
              "                   artist  ... scrobbles_lastfm\n",
              "0                coldplay  ...      360111850.0\n",
              "1               radiohead  ...      499548797.0\n",
              "2   red hot chili peppers  ...      293784041.0\n",
              "3                 rihanna  ...      199248986.0\n",
              "4                  eminem  ...      199507511.0\n",
              "5             the killers  ...      208722092.0\n",
              "6              kanye west  ...      238603850.0\n",
              "7                 nirvana  ...      222303859.0\n",
              "8                    muse  ...      344838631.0\n",
              "9                   queen  ...      191711573.0\n",
              "10           foo fighters  ...      194253620.0\n",
              "11            linkin park  ...      294986508.0\n",
              "12              lady gaga  ...      285469647.0\n",
              "13     the rolling stones  ...      154106551.0\n",
              "14              daft punk  ...      209502122.0\n",
              "15              green day  ...      188558689.0\n",
              "16             katy perry  ...      146330284.0\n",
              "17            the beatles  ...      517126254.0\n",
              "18                  oasis  ...      150683301.0\n",
              "19               gorillaz  ...      169844826.0\n",
              "20                beyoncé  ...      153947081.0\n",
              "21        michael jackson  ...      131160791.0\n",
              "22               maroon 5  ...      118003794.0\n",
              "23         arctic monkeys  ...      332306552.0\n",
              "24       system of a down  ...      226695285.0\n",
              "\n",
              "[25 rows x 4 columns]"
            ]
          },
          "metadata": {
            "tags": []
          },
          "execution_count": 8
        }
      ]
    },
    {
      "cell_type": "code",
      "metadata": {
        "id": "65lu-9r1QJi3",
        "colab_type": "code",
        "colab": {
          "base_uri": "https://localhost:8080/",
          "height": 293
        },
        "outputId": "e1233fca-4e08-4092-a9c2-aad2a9b36a3e"
      },
      "source": [
        "pf_df_1 = pd.read_sql_query('SELECT * FROM reviews', conn)\n",
        "pf_df_2 = pd.read_sql_query('SELECT * FROM years', conn)\n",
        "\n",
        "pf_df_1_copy = pf_df_1\n",
        "pf_df_2_copy = pf_df_2\n",
        "\n",
        "pf_df_1.head()"
      ],
      "execution_count": 9,
      "outputs": [
        {
          "output_type": "execute_result",
          "data": {
            "text/html": [
              "<div>\n",
              "<style scoped>\n",
              "    .dataframe tbody tr th:only-of-type {\n",
              "        vertical-align: middle;\n",
              "    }\n",
              "\n",
              "    .dataframe tbody tr th {\n",
              "        vertical-align: top;\n",
              "    }\n",
              "\n",
              "    .dataframe thead th {\n",
              "        text-align: right;\n",
              "    }\n",
              "</style>\n",
              "<table border=\"1\" class=\"dataframe\">\n",
              "  <thead>\n",
              "    <tr style=\"text-align: right;\">\n",
              "      <th></th>\n",
              "      <th>reviewid</th>\n",
              "      <th>title</th>\n",
              "      <th>artist</th>\n",
              "      <th>url</th>\n",
              "      <th>score</th>\n",
              "      <th>best_new_music</th>\n",
              "      <th>author</th>\n",
              "      <th>author_type</th>\n",
              "      <th>pub_date</th>\n",
              "      <th>pub_weekday</th>\n",
              "      <th>pub_day</th>\n",
              "      <th>pub_month</th>\n",
              "      <th>pub_year</th>\n",
              "    </tr>\n",
              "  </thead>\n",
              "  <tbody>\n",
              "    <tr>\n",
              "      <th>0</th>\n",
              "      <td>22703</td>\n",
              "      <td>mezzanine</td>\n",
              "      <td>massive attack</td>\n",
              "      <td>http://pitchfork.com/reviews/albums/22703-mezz...</td>\n",
              "      <td>9.3</td>\n",
              "      <td>0</td>\n",
              "      <td>nate patrin</td>\n",
              "      <td>contributor</td>\n",
              "      <td>2017-01-08</td>\n",
              "      <td>6</td>\n",
              "      <td>8</td>\n",
              "      <td>1</td>\n",
              "      <td>2017</td>\n",
              "    </tr>\n",
              "    <tr>\n",
              "      <th>1</th>\n",
              "      <td>22721</td>\n",
              "      <td>prelapsarian</td>\n",
              "      <td>krallice</td>\n",
              "      <td>http://pitchfork.com/reviews/albums/22721-prel...</td>\n",
              "      <td>7.9</td>\n",
              "      <td>0</td>\n",
              "      <td>zoe camp</td>\n",
              "      <td>contributor</td>\n",
              "      <td>2017-01-07</td>\n",
              "      <td>5</td>\n",
              "      <td>7</td>\n",
              "      <td>1</td>\n",
              "      <td>2017</td>\n",
              "    </tr>\n",
              "    <tr>\n",
              "      <th>2</th>\n",
              "      <td>22659</td>\n",
              "      <td>all of them naturals</td>\n",
              "      <td>uranium club</td>\n",
              "      <td>http://pitchfork.com/reviews/albums/22659-all-...</td>\n",
              "      <td>7.3</td>\n",
              "      <td>0</td>\n",
              "      <td>david glickman</td>\n",
              "      <td>contributor</td>\n",
              "      <td>2017-01-07</td>\n",
              "      <td>5</td>\n",
              "      <td>7</td>\n",
              "      <td>1</td>\n",
              "      <td>2017</td>\n",
              "    </tr>\n",
              "    <tr>\n",
              "      <th>3</th>\n",
              "      <td>22661</td>\n",
              "      <td>first songs</td>\n",
              "      <td>kleenex, liliput</td>\n",
              "      <td>http://pitchfork.com/reviews/albums/22661-firs...</td>\n",
              "      <td>9.0</td>\n",
              "      <td>1</td>\n",
              "      <td>jenn pelly</td>\n",
              "      <td>associate reviews editor</td>\n",
              "      <td>2017-01-06</td>\n",
              "      <td>4</td>\n",
              "      <td>6</td>\n",
              "      <td>1</td>\n",
              "      <td>2017</td>\n",
              "    </tr>\n",
              "    <tr>\n",
              "      <th>4</th>\n",
              "      <td>22725</td>\n",
              "      <td>new start</td>\n",
              "      <td>taso</td>\n",
              "      <td>http://pitchfork.com/reviews/albums/22725-new-...</td>\n",
              "      <td>8.1</td>\n",
              "      <td>0</td>\n",
              "      <td>kevin lozano</td>\n",
              "      <td>tracks coordinator</td>\n",
              "      <td>2017-01-06</td>\n",
              "      <td>4</td>\n",
              "      <td>6</td>\n",
              "      <td>1</td>\n",
              "      <td>2017</td>\n",
              "    </tr>\n",
              "  </tbody>\n",
              "</table>\n",
              "</div>"
            ],
            "text/plain": [
              "   reviewid                 title  ... pub_month pub_year\n",
              "0     22703             mezzanine  ...         1     2017\n",
              "1     22721          prelapsarian  ...         1     2017\n",
              "2     22659  all of them naturals  ...         1     2017\n",
              "3     22661           first songs  ...         1     2017\n",
              "4     22725             new start  ...         1     2017\n",
              "\n",
              "[5 rows x 13 columns]"
            ]
          },
          "metadata": {
            "tags": []
          },
          "execution_count": 9
        }
      ]
    },
    {
      "cell_type": "code",
      "metadata": {
        "id": "o49i0VnkQJ2E",
        "colab_type": "code",
        "colab": {
          "base_uri": "https://localhost:8080/",
          "height": 400
        },
        "outputId": "31f7cb26-b134-4f39-9dd9-cdffa7d60086"
      },
      "source": [
        "final_df_1 = pd.merge(pf_df_1_copy, lastfm_df_copy, on='artist', how='inner')\n",
        "\n",
        "final_df_2 = pd.merge(pf_df_2_copy, final_df_1, on='reviewid', how='inner')\n",
        "\n",
        "final_df_2.head()"
      ],
      "execution_count": 10,
      "outputs": [
        {
          "output_type": "execute_result",
          "data": {
            "text/html": [
              "<div>\n",
              "<style scoped>\n",
              "    .dataframe tbody tr th:only-of-type {\n",
              "        vertical-align: middle;\n",
              "    }\n",
              "\n",
              "    .dataframe tbody tr th {\n",
              "        vertical-align: top;\n",
              "    }\n",
              "\n",
              "    .dataframe thead th {\n",
              "        text-align: right;\n",
              "    }\n",
              "</style>\n",
              "<table border=\"1\" class=\"dataframe\">\n",
              "  <thead>\n",
              "    <tr style=\"text-align: right;\">\n",
              "      <th></th>\n",
              "      <th>reviewid</th>\n",
              "      <th>year</th>\n",
              "      <th>title</th>\n",
              "      <th>artist</th>\n",
              "      <th>url</th>\n",
              "      <th>score</th>\n",
              "      <th>best_new_music</th>\n",
              "      <th>author</th>\n",
              "      <th>author_type</th>\n",
              "      <th>pub_date</th>\n",
              "      <th>pub_weekday</th>\n",
              "      <th>pub_day</th>\n",
              "      <th>pub_month</th>\n",
              "      <th>pub_year</th>\n",
              "      <th>country_lastfm</th>\n",
              "      <th>listeners_lastfm</th>\n",
              "      <th>scrobbles_lastfm</th>\n",
              "    </tr>\n",
              "  </thead>\n",
              "  <tbody>\n",
              "    <tr>\n",
              "      <th>0</th>\n",
              "      <td>22703</td>\n",
              "      <td>1998.0</td>\n",
              "      <td>mezzanine</td>\n",
              "      <td>massive attack</td>\n",
              "      <td>http://pitchfork.com/reviews/albums/22703-mezz...</td>\n",
              "      <td>9.3</td>\n",
              "      <td>0</td>\n",
              "      <td>nate patrin</td>\n",
              "      <td>contributor</td>\n",
              "      <td>2017-01-08</td>\n",
              "      <td>6</td>\n",
              "      <td>8</td>\n",
              "      <td>1</td>\n",
              "      <td>2017</td>\n",
              "      <td>United Kingdom</td>\n",
              "      <td>2577949.0</td>\n",
              "      <td>117454784.0</td>\n",
              "    </tr>\n",
              "    <tr>\n",
              "      <th>1</th>\n",
              "      <td>22721</td>\n",
              "      <td>2016.0</td>\n",
              "      <td>prelapsarian</td>\n",
              "      <td>krallice</td>\n",
              "      <td>http://pitchfork.com/reviews/albums/22721-prel...</td>\n",
              "      <td>7.9</td>\n",
              "      <td>0</td>\n",
              "      <td>zoe camp</td>\n",
              "      <td>contributor</td>\n",
              "      <td>2017-01-07</td>\n",
              "      <td>5</td>\n",
              "      <td>7</td>\n",
              "      <td>1</td>\n",
              "      <td>2017</td>\n",
              "      <td>United States</td>\n",
              "      <td>32307.0</td>\n",
              "      <td>964540.0</td>\n",
              "    </tr>\n",
              "    <tr>\n",
              "      <th>2</th>\n",
              "      <td>22725</td>\n",
              "      <td>2016.0</td>\n",
              "      <td>new start</td>\n",
              "      <td>taso</td>\n",
              "      <td>http://pitchfork.com/reviews/albums/22725-new-...</td>\n",
              "      <td>8.1</td>\n",
              "      <td>0</td>\n",
              "      <td>kevin lozano</td>\n",
              "      <td>tracks coordinator</td>\n",
              "      <td>2017-01-06</td>\n",
              "      <td>4</td>\n",
              "      <td>6</td>\n",
              "      <td>1</td>\n",
              "      <td>2017</td>\n",
              "      <td>Japan; United States</td>\n",
              "      <td>10412.0</td>\n",
              "      <td>62640.0</td>\n",
              "    </tr>\n",
              "    <tr>\n",
              "      <th>3</th>\n",
              "      <td>22704</td>\n",
              "      <td>2016.0</td>\n",
              "      <td>stillness in wonderland</td>\n",
              "      <td>little simz</td>\n",
              "      <td>http://pitchfork.com/reviews/albums/22704-litt...</td>\n",
              "      <td>7.1</td>\n",
              "      <td>0</td>\n",
              "      <td>katherine st. asaph</td>\n",
              "      <td>contributor</td>\n",
              "      <td>2017-01-05</td>\n",
              "      <td>3</td>\n",
              "      <td>5</td>\n",
              "      <td>1</td>\n",
              "      <td>2017</td>\n",
              "      <td>United Kingdom</td>\n",
              "      <td>85942.0</td>\n",
              "      <td>1290436.0</td>\n",
              "    </tr>\n",
              "    <tr>\n",
              "      <th>4</th>\n",
              "      <td>22694</td>\n",
              "      <td>2016.0</td>\n",
              "      <td>tehillim</td>\n",
              "      <td>yotam avni</td>\n",
              "      <td>http://pitchfork.com/reviews/albums/22694-tehi...</td>\n",
              "      <td>7.0</td>\n",
              "      <td>0</td>\n",
              "      <td>andy beta</td>\n",
              "      <td>contributor</td>\n",
              "      <td>2017-01-05</td>\n",
              "      <td>3</td>\n",
              "      <td>5</td>\n",
              "      <td>1</td>\n",
              "      <td>2017</td>\n",
              "      <td>NaN</td>\n",
              "      <td>6573.0</td>\n",
              "      <td>35268.0</td>\n",
              "    </tr>\n",
              "  </tbody>\n",
              "</table>\n",
              "</div>"
            ],
            "text/plain": [
              "   reviewid    year  ... listeners_lastfm scrobbles_lastfm\n",
              "0     22703  1998.0  ...        2577949.0      117454784.0\n",
              "1     22721  2016.0  ...          32307.0         964540.0\n",
              "2     22725  2016.0  ...          10412.0          62640.0\n",
              "3     22704  2016.0  ...          85942.0        1290436.0\n",
              "4     22694  2016.0  ...           6573.0          35268.0\n",
              "\n",
              "[5 rows x 17 columns]"
            ]
          },
          "metadata": {
            "tags": []
          },
          "execution_count": 10
        }
      ]
    },
    {
      "cell_type": "code",
      "metadata": {
        "id": "93AXQe8_MVHS",
        "colab_type": "code",
        "colab": {
          "base_uri": "https://localhost:8080/",
          "height": 400
        },
        "outputId": "bbc94745-c03c-45f5-b155-8945c0c5890d"
      },
      "source": [
        "final_df_2.head()"
      ],
      "execution_count": 12,
      "outputs": [
        {
          "output_type": "execute_result",
          "data": {
            "text/html": [
              "<div>\n",
              "<style scoped>\n",
              "    .dataframe tbody tr th:only-of-type {\n",
              "        vertical-align: middle;\n",
              "    }\n",
              "\n",
              "    .dataframe tbody tr th {\n",
              "        vertical-align: top;\n",
              "    }\n",
              "\n",
              "    .dataframe thead th {\n",
              "        text-align: right;\n",
              "    }\n",
              "</style>\n",
              "<table border=\"1\" class=\"dataframe\">\n",
              "  <thead>\n",
              "    <tr style=\"text-align: right;\">\n",
              "      <th></th>\n",
              "      <th>reviewid</th>\n",
              "      <th>year</th>\n",
              "      <th>title</th>\n",
              "      <th>artist</th>\n",
              "      <th>url</th>\n",
              "      <th>score</th>\n",
              "      <th>best_new_music</th>\n",
              "      <th>author</th>\n",
              "      <th>author_type</th>\n",
              "      <th>pub_date</th>\n",
              "      <th>pub_weekday</th>\n",
              "      <th>pub_day</th>\n",
              "      <th>pub_month</th>\n",
              "      <th>pub_year</th>\n",
              "      <th>country_lastfm</th>\n",
              "      <th>listeners_lastfm</th>\n",
              "      <th>scrobbles_lastfm</th>\n",
              "    </tr>\n",
              "  </thead>\n",
              "  <tbody>\n",
              "    <tr>\n",
              "      <th>0</th>\n",
              "      <td>22703</td>\n",
              "      <td>1998.0</td>\n",
              "      <td>mezzanine</td>\n",
              "      <td>massive attack</td>\n",
              "      <td>http://pitchfork.com/reviews/albums/22703-mezz...</td>\n",
              "      <td>9.3</td>\n",
              "      <td>0</td>\n",
              "      <td>nate patrin</td>\n",
              "      <td>contributor</td>\n",
              "      <td>2017-01-08</td>\n",
              "      <td>6</td>\n",
              "      <td>8</td>\n",
              "      <td>1</td>\n",
              "      <td>2017</td>\n",
              "      <td>United Kingdom</td>\n",
              "      <td>2577949.0</td>\n",
              "      <td>117454784.0</td>\n",
              "    </tr>\n",
              "    <tr>\n",
              "      <th>1</th>\n",
              "      <td>22721</td>\n",
              "      <td>2016.0</td>\n",
              "      <td>prelapsarian</td>\n",
              "      <td>krallice</td>\n",
              "      <td>http://pitchfork.com/reviews/albums/22721-prel...</td>\n",
              "      <td>7.9</td>\n",
              "      <td>0</td>\n",
              "      <td>zoe camp</td>\n",
              "      <td>contributor</td>\n",
              "      <td>2017-01-07</td>\n",
              "      <td>5</td>\n",
              "      <td>7</td>\n",
              "      <td>1</td>\n",
              "      <td>2017</td>\n",
              "      <td>United States</td>\n",
              "      <td>32307.0</td>\n",
              "      <td>964540.0</td>\n",
              "    </tr>\n",
              "    <tr>\n",
              "      <th>2</th>\n",
              "      <td>22725</td>\n",
              "      <td>2016.0</td>\n",
              "      <td>new start</td>\n",
              "      <td>taso</td>\n",
              "      <td>http://pitchfork.com/reviews/albums/22725-new-...</td>\n",
              "      <td>8.1</td>\n",
              "      <td>0</td>\n",
              "      <td>kevin lozano</td>\n",
              "      <td>tracks coordinator</td>\n",
              "      <td>2017-01-06</td>\n",
              "      <td>4</td>\n",
              "      <td>6</td>\n",
              "      <td>1</td>\n",
              "      <td>2017</td>\n",
              "      <td>Japan; United States</td>\n",
              "      <td>10412.0</td>\n",
              "      <td>62640.0</td>\n",
              "    </tr>\n",
              "    <tr>\n",
              "      <th>3</th>\n",
              "      <td>22704</td>\n",
              "      <td>2016.0</td>\n",
              "      <td>stillness in wonderland</td>\n",
              "      <td>little simz</td>\n",
              "      <td>http://pitchfork.com/reviews/albums/22704-litt...</td>\n",
              "      <td>7.1</td>\n",
              "      <td>0</td>\n",
              "      <td>katherine st. asaph</td>\n",
              "      <td>contributor</td>\n",
              "      <td>2017-01-05</td>\n",
              "      <td>3</td>\n",
              "      <td>5</td>\n",
              "      <td>1</td>\n",
              "      <td>2017</td>\n",
              "      <td>United Kingdom</td>\n",
              "      <td>85942.0</td>\n",
              "      <td>1290436.0</td>\n",
              "    </tr>\n",
              "    <tr>\n",
              "      <th>4</th>\n",
              "      <td>22694</td>\n",
              "      <td>2016.0</td>\n",
              "      <td>tehillim</td>\n",
              "      <td>yotam avni</td>\n",
              "      <td>http://pitchfork.com/reviews/albums/22694-tehi...</td>\n",
              "      <td>7.0</td>\n",
              "      <td>0</td>\n",
              "      <td>andy beta</td>\n",
              "      <td>contributor</td>\n",
              "      <td>2017-01-05</td>\n",
              "      <td>3</td>\n",
              "      <td>5</td>\n",
              "      <td>1</td>\n",
              "      <td>2017</td>\n",
              "      <td>NaN</td>\n",
              "      <td>6573.0</td>\n",
              "      <td>35268.0</td>\n",
              "    </tr>\n",
              "  </tbody>\n",
              "</table>\n",
              "</div>"
            ],
            "text/plain": [
              "   reviewid    year  ... listeners_lastfm scrobbles_lastfm\n",
              "0     22703  1998.0  ...        2577949.0      117454784.0\n",
              "1     22721  2016.0  ...          32307.0         964540.0\n",
              "2     22725  2016.0  ...          10412.0          62640.0\n",
              "3     22704  2016.0  ...          85942.0        1290436.0\n",
              "4     22694  2016.0  ...           6573.0          35268.0\n",
              "\n",
              "[5 rows x 17 columns]"
            ]
          },
          "metadata": {
            "tags": []
          },
          "execution_count": 12
        }
      ]
    },
    {
      "cell_type": "code",
      "metadata": {
        "id": "Z5VptQDQMXIA",
        "colab_type": "code",
        "colab": {
          "base_uri": "https://localhost:8080/",
          "height": 417
        },
        "outputId": "35d96778-692c-40de-fb9c-e37801b7975e"
      },
      "source": [
        "final_df_2.tail()"
      ],
      "execution_count": 13,
      "outputs": [
        {
          "output_type": "execute_result",
          "data": {
            "text/html": [
              "<div>\n",
              "<style scoped>\n",
              "    .dataframe tbody tr th:only-of-type {\n",
              "        vertical-align: middle;\n",
              "    }\n",
              "\n",
              "    .dataframe tbody tr th {\n",
              "        vertical-align: top;\n",
              "    }\n",
              "\n",
              "    .dataframe thead th {\n",
              "        text-align: right;\n",
              "    }\n",
              "</style>\n",
              "<table border=\"1\" class=\"dataframe\">\n",
              "  <thead>\n",
              "    <tr style=\"text-align: right;\">\n",
              "      <th></th>\n",
              "      <th>reviewid</th>\n",
              "      <th>year</th>\n",
              "      <th>title</th>\n",
              "      <th>artist</th>\n",
              "      <th>url</th>\n",
              "      <th>score</th>\n",
              "      <th>best_new_music</th>\n",
              "      <th>author</th>\n",
              "      <th>author_type</th>\n",
              "      <th>pub_date</th>\n",
              "      <th>pub_weekday</th>\n",
              "      <th>pub_day</th>\n",
              "      <th>pub_month</th>\n",
              "      <th>pub_year</th>\n",
              "      <th>country_lastfm</th>\n",
              "      <th>listeners_lastfm</th>\n",
              "      <th>scrobbles_lastfm</th>\n",
              "    </tr>\n",
              "  </thead>\n",
              "  <tbody>\n",
              "    <tr>\n",
              "      <th>18969</th>\n",
              "      <td>1535</td>\n",
              "      <td>NaN</td>\n",
              "      <td>let us replay!</td>\n",
              "      <td>coldcut</td>\n",
              "      <td>http://pitchfork.com/reviews/albums/1535-let-u...</td>\n",
              "      <td>8.9</td>\n",
              "      <td>0</td>\n",
              "      <td>james p. wisdom</td>\n",
              "      <td>None</td>\n",
              "      <td>1999-01-26</td>\n",
              "      <td>1</td>\n",
              "      <td>26</td>\n",
              "      <td>1</td>\n",
              "      <td>1999</td>\n",
              "      <td>United Kingdom</td>\n",
              "      <td>448493.0</td>\n",
              "      <td>4457928.0</td>\n",
              "    </tr>\n",
              "    <tr>\n",
              "      <th>18970</th>\n",
              "      <td>1341</td>\n",
              "      <td>NaN</td>\n",
              "      <td>1999</td>\n",
              "      <td>cassius</td>\n",
              "      <td>http://pitchfork.com/reviews/albums/1341-1999/</td>\n",
              "      <td>4.8</td>\n",
              "      <td>0</td>\n",
              "      <td>james p. wisdom</td>\n",
              "      <td>None</td>\n",
              "      <td>1999-01-26</td>\n",
              "      <td>1</td>\n",
              "      <td>26</td>\n",
              "      <td>1</td>\n",
              "      <td>1999</td>\n",
              "      <td>France</td>\n",
              "      <td>582046.0</td>\n",
              "      <td>5800546.0</td>\n",
              "    </tr>\n",
              "    <tr>\n",
              "      <th>18971</th>\n",
              "      <td>5376</td>\n",
              "      <td>NaN</td>\n",
              "      <td>out of tune</td>\n",
              "      <td>mojave 3</td>\n",
              "      <td>http://pitchfork.com/reviews/albums/5376-out-o...</td>\n",
              "      <td>6.3</td>\n",
              "      <td>0</td>\n",
              "      <td>jason josephes</td>\n",
              "      <td>contributor</td>\n",
              "      <td>1999-01-12</td>\n",
              "      <td>1</td>\n",
              "      <td>12</td>\n",
              "      <td>1</td>\n",
              "      <td>1999</td>\n",
              "      <td>United Kingdom</td>\n",
              "      <td>131576.0</td>\n",
              "      <td>2938878.0</td>\n",
              "    </tr>\n",
              "    <tr>\n",
              "      <th>18972</th>\n",
              "      <td>2413</td>\n",
              "      <td>1999.0</td>\n",
              "      <td>singles breaking up, vol. 1</td>\n",
              "      <td>don caballero</td>\n",
              "      <td>http://pitchfork.com/reviews/albums/2413-singl...</td>\n",
              "      <td>7.2</td>\n",
              "      <td>0</td>\n",
              "      <td>james p. wisdom</td>\n",
              "      <td>None</td>\n",
              "      <td>1999-01-12</td>\n",
              "      <td>1</td>\n",
              "      <td>12</td>\n",
              "      <td>1</td>\n",
              "      <td>1999</td>\n",
              "      <td>United States</td>\n",
              "      <td>173451.0</td>\n",
              "      <td>3771315.0</td>\n",
              "    </tr>\n",
              "    <tr>\n",
              "      <th>18973</th>\n",
              "      <td>3723</td>\n",
              "      <td>NaN</td>\n",
              "      <td>left for dead in malaysia</td>\n",
              "      <td>neil hamburger</td>\n",
              "      <td>http://pitchfork.com/reviews/albums/3723-left-...</td>\n",
              "      <td>6.5</td>\n",
              "      <td>0</td>\n",
              "      <td>jason josephes</td>\n",
              "      <td>contributor</td>\n",
              "      <td>1999-01-05</td>\n",
              "      <td>1</td>\n",
              "      <td>5</td>\n",
              "      <td>1</td>\n",
              "      <td>1999</td>\n",
              "      <td>Australia; United States</td>\n",
              "      <td>13175.0</td>\n",
              "      <td>189054.0</td>\n",
              "    </tr>\n",
              "  </tbody>\n",
              "</table>\n",
              "</div>"
            ],
            "text/plain": [
              "       reviewid    year  ... listeners_lastfm scrobbles_lastfm\n",
              "18969      1535     NaN  ...         448493.0        4457928.0\n",
              "18970      1341     NaN  ...         582046.0        5800546.0\n",
              "18971      5376     NaN  ...         131576.0        2938878.0\n",
              "18972      2413  1999.0  ...         173451.0        3771315.0\n",
              "18973      3723     NaN  ...          13175.0         189054.0\n",
              "\n",
              "[5 rows x 17 columns]"
            ]
          },
          "metadata": {
            "tags": []
          },
          "execution_count": 13
        }
      ]
    },
    {
      "cell_type": "code",
      "metadata": {
        "id": "049enLBRMXe1",
        "colab_type": "code",
        "colab": {
          "base_uri": "https://localhost:8080/",
          "height": 34
        },
        "outputId": "7a814f92-59cb-4e95-8333-e16fdc1479ba"
      },
      "source": [
        "final_df_2.shape"
      ],
      "execution_count": 14,
      "outputs": [
        {
          "output_type": "execute_result",
          "data": {
            "text/plain": [
              "(18974, 17)"
            ]
          },
          "metadata": {
            "tags": []
          },
          "execution_count": 14
        }
      ]
    },
    {
      "cell_type": "code",
      "metadata": {
        "id": "p6_umUsZUpEd",
        "colab_type": "code",
        "colab": {}
      },
      "source": [
        "final_df_2 = final_df_2.dropna(subset=['year'])"
      ],
      "execution_count": 16,
      "outputs": []
    },
    {
      "cell_type": "code",
      "metadata": {
        "id": "GsZH2Uh4gcli",
        "colab_type": "code",
        "colab": {
          "base_uri": "https://localhost:8080/",
          "height": 121
        },
        "outputId": "c7debbd1-b463-41ff-88c8-9b679b2b2280"
      },
      "source": [
        "final_df_2['year_gap'] = final_df_2['pub_year'] - final_df_2['year']"
      ],
      "execution_count": 17,
      "outputs": [
        {
          "output_type": "stream",
          "text": [
            "/usr/local/lib/python3.6/dist-packages/ipykernel_launcher.py:1: SettingWithCopyWarning: \n",
            "A value is trying to be set on a copy of a slice from a DataFrame.\n",
            "Try using .loc[row_indexer,col_indexer] = value instead\n",
            "\n",
            "See the caveats in the documentation: https://pandas.pydata.org/pandas-docs/stable/user_guide/indexing.html#returning-a-view-versus-a-copy\n",
            "  \"\"\"Entry point for launching an IPython kernel.\n"
          ],
          "name": "stderr"
        }
      ]
    },
    {
      "cell_type": "code",
      "metadata": {
        "id": "E1lEbFDrgKK0",
        "colab_type": "code",
        "colab": {
          "base_uri": "https://localhost:8080/",
          "height": 282
        },
        "outputId": "91f4b3d4-5cc8-4c48-f888-cb826d7fc60d"
      },
      "source": [
        "final_df_2['year_gap'].plot.hist(bins=10, xlim=(0, 9))"
      ],
      "execution_count": 18,
      "outputs": [
        {
          "output_type": "execute_result",
          "data": {
            "text/plain": [
              "<matplotlib.axes._subplots.AxesSubplot at 0x7f98dfac5b70>"
            ]
          },
          "metadata": {
            "tags": []
          },
          "execution_count": 18
        },
        {
          "output_type": "display_data",
          "data": {
            "image/png": "[encoded data removed]",
            "text/plain": [
              "<Figure size 432x288 with 1 Axes>"
            ]
          },
          "metadata": {
            "tags": [],
            "needs_background": "light"
          }
        }
      ]
    },
    {
      "cell_type": "code",
      "metadata": {
        "id": "5zG1k1EFvGnw",
        "colab_type": "code",
        "colab": {
          "base_uri": "https://localhost:8080/",
          "height": 347
        },
        "outputId": "16a9d396-53ce-4f0c-8c8e-8344e8c7bee6"
      },
      "source": [
        "final_df_2.dtypes"
      ],
      "execution_count": 35,
      "outputs": [
        {
          "output_type": "execute_result",
          "data": {
            "text/plain": [
              "reviewid              int64\n",
              "year                float64\n",
              "title                object\n",
              "artist               object\n",
              "url                  object\n",
              "score               float64\n",
              "best_new_music        int64\n",
              "author               object\n",
              "author_type          object\n",
              "pub_date             object\n",
              "pub_weekday           int64\n",
              "pub_day               int64\n",
              "pub_month             int64\n",
              "pub_year              int64\n",
              "country_lastfm       object\n",
              "listeners_lastfm    float64\n",
              "scrobbles_lastfm    float64\n",
              "year_gap            float64\n",
              "dtype: object"
            ]
          },
          "metadata": {
            "tags": []
          },
          "execution_count": 35
        }
      ]
    },
    {
      "cell_type": "code",
      "metadata": {
        "id": "iR0EmTNbitcW",
        "colab_type": "code",
        "colab": {
          "base_uri": "https://localhost:8080/",
          "height": 295
        },
        "outputId": "4b5a245b-c6a4-4592-8caa-b9c1dde346da"
      },
      "source": [
        "from sklearn.preprocessing import StandardScaler\n",
        "from sklearn.decomposition import PCA\n",
        "import matplotlib.pyplot as plt\n",
        "\n",
        "scaler = StandardScaler()\n",
        "\n",
        "Z = scaler.fit_transform(final_df_2.select_dtypes(include=[\"int64\", \"float64\"]).values)\n",
        "\n",
        "pca = PCA(2)\n",
        "\n",
        "transformed_data = pca.fit_transform(Z)\n",
        "\n",
        "plt.scatter(transformed_data[:,0], transformed_data[:,1])\n",
        "plt.xlabel(\"PC1\")\n",
        "plt.ylabel(\"PC2\")\n",
        "plt.title(\"Principal Component 1 vs Principal Component 2\")\n",
        "plt.show()"
      ],
      "execution_count": 37,
      "outputs": [
        {
          "output_type": "display_data",
          "data": {
            "image/png": "[encoded data removed]",
            "text/plain": [
              "<Figure size 432x288 with 1 Axes>"
            ]
          },
          "metadata": {
            "tags": [],
            "needs_background": "light"
          }
        }
      ]
    },
    {
      "cell_type": "code",
      "metadata": {
        "id": "0Guk5dZoyIVE",
        "colab_type": "code",
        "colab": {
          "base_uri": "https://localhost:8080/",
          "height": 394
        },
        "outputId": "d7015ed7-d590-4c31-bf12-2c2e3f419297"
      },
      "source": [
        "final_df_2[final_df_2['year'] == 2013].corr()"
      ],
      "execution_count": 66,
      "outputs": [
        {
          "output_type": "execute_result",
          "data": {
            "text/html": [
              "<div>\n",
              "<style scoped>\n",
              "    .dataframe tbody tr th:only-of-type {\n",
              "        vertical-align: middle;\n",
              "    }\n",
              "\n",
              "    .dataframe tbody tr th {\n",
              "        vertical-align: top;\n",
              "    }\n",
              "\n",
              "    .dataframe thead th {\n",
              "        text-align: right;\n",
              "    }\n",
              "</style>\n",
              "<table border=\"1\" class=\"dataframe\">\n",
              "  <thead>\n",
              "    <tr style=\"text-align: right;\">\n",
              "      <th></th>\n",
              "      <th>reviewid</th>\n",
              "      <th>year</th>\n",
              "      <th>score</th>\n",
              "      <th>best_new_music</th>\n",
              "      <th>pub_weekday</th>\n",
              "      <th>pub_day</th>\n",
              "      <th>pub_month</th>\n",
              "      <th>pub_year</th>\n",
              "      <th>listeners_lastfm</th>\n",
              "      <th>scrobbles_lastfm</th>\n",
              "      <th>year_gap</th>\n",
              "    </tr>\n",
              "  </thead>\n",
              "  <tbody>\n",
              "    <tr>\n",
              "      <th>reviewid</th>\n",
              "      <td>1.000000</td>\n",
              "      <td>NaN</td>\n",
              "      <td>-0.024957</td>\n",
              "      <td>0.008641</td>\n",
              "      <td>-0.025198</td>\n",
              "      <td>-0.026870</td>\n",
              "      <td>0.769156</td>\n",
              "      <td>0.379625</td>\n",
              "      <td>-0.003437</td>\n",
              "      <td>0.022196</td>\n",
              "      <td>0.379625</td>\n",
              "    </tr>\n",
              "    <tr>\n",
              "      <th>year</th>\n",
              "      <td>NaN</td>\n",
              "      <td>NaN</td>\n",
              "      <td>NaN</td>\n",
              "      <td>NaN</td>\n",
              "      <td>NaN</td>\n",
              "      <td>NaN</td>\n",
              "      <td>NaN</td>\n",
              "      <td>NaN</td>\n",
              "      <td>NaN</td>\n",
              "      <td>NaN</td>\n",
              "      <td>NaN</td>\n",
              "    </tr>\n",
              "    <tr>\n",
              "      <th>score</th>\n",
              "      <td>-0.024957</td>\n",
              "      <td>NaN</td>\n",
              "      <td>1.000000</td>\n",
              "      <td>0.475767</td>\n",
              "      <td>-0.006930</td>\n",
              "      <td>0.012288</td>\n",
              "      <td>-0.018079</td>\n",
              "      <td>-0.010747</td>\n",
              "      <td>-0.002473</td>\n",
              "      <td>0.030786</td>\n",
              "      <td>-0.010747</td>\n",
              "    </tr>\n",
              "    <tr>\n",
              "      <th>best_new_music</th>\n",
              "      <td>0.008641</td>\n",
              "      <td>NaN</td>\n",
              "      <td>0.475767</td>\n",
              "      <td>1.000000</td>\n",
              "      <td>-0.046950</td>\n",
              "      <td>-0.041847</td>\n",
              "      <td>0.007197</td>\n",
              "      <td>0.009020</td>\n",
              "      <td>0.182869</td>\n",
              "      <td>0.161966</td>\n",
              "      <td>0.009020</td>\n",
              "    </tr>\n",
              "    <tr>\n",
              "      <th>pub_weekday</th>\n",
              "      <td>-0.025198</td>\n",
              "      <td>NaN</td>\n",
              "      <td>-0.006930</td>\n",
              "      <td>-0.046950</td>\n",
              "      <td>1.000000</td>\n",
              "      <td>0.034851</td>\n",
              "      <td>-0.036025</td>\n",
              "      <td>0.004236</td>\n",
              "      <td>-0.103757</td>\n",
              "      <td>-0.083178</td>\n",
              "      <td>0.004236</td>\n",
              "    </tr>\n",
              "    <tr>\n",
              "      <th>pub_day</th>\n",
              "      <td>-0.026870</td>\n",
              "      <td>NaN</td>\n",
              "      <td>0.012288</td>\n",
              "      <td>-0.041847</td>\n",
              "      <td>0.034851</td>\n",
              "      <td>1.000000</td>\n",
              "      <td>-0.057894</td>\n",
              "      <td>-0.080527</td>\n",
              "      <td>-0.008027</td>\n",
              "      <td>-0.007856</td>\n",
              "      <td>-0.080527</td>\n",
              "    </tr>\n",
              "    <tr>\n",
              "      <th>pub_month</th>\n",
              "      <td>0.769156</td>\n",
              "      <td>NaN</td>\n",
              "      <td>-0.018079</td>\n",
              "      <td>0.007197</td>\n",
              "      <td>-0.036025</td>\n",
              "      <td>-0.057894</td>\n",
              "      <td>1.000000</td>\n",
              "      <td>-0.272299</td>\n",
              "      <td>-0.003327</td>\n",
              "      <td>0.035009</td>\n",
              "      <td>-0.272299</td>\n",
              "    </tr>\n",
              "    <tr>\n",
              "      <th>pub_year</th>\n",
              "      <td>0.379625</td>\n",
              "      <td>NaN</td>\n",
              "      <td>-0.010747</td>\n",
              "      <td>0.009020</td>\n",
              "      <td>0.004236</td>\n",
              "      <td>-0.080527</td>\n",
              "      <td>-0.272299</td>\n",
              "      <td>1.000000</td>\n",
              "      <td>-0.001239</td>\n",
              "      <td>-0.019926</td>\n",
              "      <td>1.000000</td>\n",
              "    </tr>\n",
              "    <tr>\n",
              "      <th>listeners_lastfm</th>\n",
              "      <td>-0.003437</td>\n",
              "      <td>NaN</td>\n",
              "      <td>-0.002473</td>\n",
              "      <td>0.182869</td>\n",
              "      <td>-0.103757</td>\n",
              "      <td>-0.008027</td>\n",
              "      <td>-0.003327</td>\n",
              "      <td>-0.001239</td>\n",
              "      <td>1.000000</td>\n",
              "      <td>0.887053</td>\n",
              "      <td>-0.001239</td>\n",
              "    </tr>\n",
              "    <tr>\n",
              "      <th>scrobbles_lastfm</th>\n",
              "      <td>0.022196</td>\n",
              "      <td>NaN</td>\n",
              "      <td>0.030786</td>\n",
              "      <td>0.161966</td>\n",
              "      <td>-0.083178</td>\n",
              "      <td>-0.007856</td>\n",
              "      <td>0.035009</td>\n",
              "      <td>-0.019926</td>\n",
              "      <td>0.887053</td>\n",
              "      <td>1.000000</td>\n",
              "      <td>-0.019926</td>\n",
              "    </tr>\n",
              "    <tr>\n",
              "      <th>year_gap</th>\n",
              "      <td>0.379625</td>\n",
              "      <td>NaN</td>\n",
              "      <td>-0.010747</td>\n",
              "      <td>0.009020</td>\n",
              "      <td>0.004236</td>\n",
              "      <td>-0.080527</td>\n",
              "      <td>-0.272299</td>\n",
              "      <td>1.000000</td>\n",
              "      <td>-0.001239</td>\n",
              "      <td>-0.019926</td>\n",
              "      <td>1.000000</td>\n",
              "    </tr>\n",
              "  </tbody>\n",
              "</table>\n",
              "</div>"
            ],
            "text/plain": [
              "                  reviewid  year  ...  scrobbles_lastfm  year_gap\n",
              "reviewid          1.000000   NaN  ...          0.022196  0.379625\n",
              "year                   NaN   NaN  ...               NaN       NaN\n",
              "score            -0.024957   NaN  ...          0.030786 -0.010747\n",
              "best_new_music    0.008641   NaN  ...          0.161966  0.009020\n",
              "pub_weekday      -0.025198   NaN  ...         -0.083178  0.004236\n",
              "pub_day          -0.026870   NaN  ...         -0.007856 -0.080527\n",
              "pub_month         0.769156   NaN  ...          0.035009 -0.272299\n",
              "pub_year          0.379625   NaN  ...         -0.019926  1.000000\n",
              "listeners_lastfm -0.003437   NaN  ...          0.887053 -0.001239\n",
              "scrobbles_lastfm  0.022196   NaN  ...          1.000000 -0.019926\n",
              "year_gap          0.379625   NaN  ...         -0.019926  1.000000\n",
              "\n",
              "[11 rows x 11 columns]"
            ]
          },
          "metadata": {
            "tags": []
          },
          "execution_count": 66
        }
      ]
    },
    {
      "cell_type": "code",
      "metadata": {
        "id": "6veKjsTh4bT4",
        "colab_type": "code",
        "colab": {
          "base_uri": "https://localhost:8080/",
          "height": 286
        },
        "outputId": "494930dc-89ef-49c4-8bd0-0dab7dab5111"
      },
      "source": [
        "x = range(2000, 2017)\n",
        "y = [final_df_2[final_df_2['year'] == i].corr()['listeners_lastfm'][2] for i in x]\n",
        "plt.plot(x, y)\n",
        "plt.xlim(1998, 2020)\n",
        "plt.ylim(-1, 1)"
      ],
      "execution_count": 64,
      "outputs": [
        {
          "output_type": "execute_result",
          "data": {
            "text/plain": [
              "(-1.0, 1.0)"
            ]
          },
          "metadata": {
            "tags": []
          },
          "execution_count": 64
        },
        {
          "output_type": "display_data",
          "data": {
            "image/png": "[encoded data removed]",
            "text/plain": [
              "<Figure size 432x288 with 1 Axes>"
            ]
          },
          "metadata": {
            "tags": [],
            "needs_background": "light"
          }
        }
      ]
    },
    {
      "cell_type": "code",
      "metadata": {
        "id": "XPqTh5HP8ESq",
        "colab_type": "code",
        "colab": {
          "base_uri": "https://localhost:8080/",
          "height": 286
        },
        "outputId": "07c316e9-52f0-405f-f42e-359938eaf036"
      },
      "source": [
        "x = range(2000, 2017)\n",
        "y = [final_df_2[final_df_2['year'] == i].corr()['scrobbles_lastfm'][2] for i in x]\n",
        "plt.plot(x, y)\n",
        "plt.xlim(1998, 2020)\n",
        "plt.ylim(-1, 1)"
      ],
      "execution_count": 67,
      "outputs": [
        {
          "output_type": "execute_result",
          "data": {
            "text/plain": [
              "(-1.0, 1.0)"
            ]
          },
          "metadata": {
            "tags": []
          },
          "execution_count": 67
        },
        {
          "output_type": "display_data",
          "data": {
            "image/png": "[encoded data removed]",
            "text/plain": [
              "<Figure size 432x288 with 1 Axes>"
            ]
          },
          "metadata": {
            "tags": [],
            "needs_background": "light"
          }
        }
      ]
    },
    {
      "cell_type": "code",
      "metadata": {
        "id": "7bGJ301_87z5",
        "colab_type": "code",
        "colab": {
          "base_uri": "https://localhost:8080/",
          "height": 286
        },
        "outputId": "4090c72a-9553-4564-e421-79a9a62cdf98"
      },
      "source": [
        "x = range(1958, 2017)\n",
        "y = [final_df_2[final_df_2['year'] == i].corr()['score'][1] for i in x]\n",
        "plt.plot(x, y)\n",
        "plt.xlim(1958, 2020)\n",
        "plt.ylim(-1, 1)"
      ],
      "execution_count": 70,
      "outputs": [
        {
          "output_type": "execute_result",
          "data": {
            "text/plain": [
              "(-1.0, 1.0)"
            ]
          },
          "metadata": {
            "tags": []
          },
          "execution_count": 70
        },
        {
          "output_type": "display_data",
          "data": {
            "image/png": "[encoded data removed]",
            "text/plain": [
              "<Figure size 432x288 with 1 Axes>"
            ]
          },
          "metadata": {
            "tags": [],
            "needs_background": "light"
          }
        }
      ]
    },
    {
      "cell_type": "code",
      "metadata": {
        "id": "TYaSS9Ty87qQ",
        "colab_type": "code",
        "colab": {}
      },
      "source": [
        ""
      ],
      "execution_count": null,
      "outputs": []
    }
  ]
}